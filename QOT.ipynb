{
 "cells": [
  {
   "cell_type": "markdown",
   "metadata": {},
   "source": [
    "# One-out-of-two Quantum Oblivious Transfer based on Nonorthogonal States"
   ]
  },
  {
   "cell_type": "markdown",
   "metadata": {},
   "source": [
    "What is an obivious transfer (OT) protocol?\n",
    "\n",
    "Most common protocols are all-or-nothing and one-out-of-two. <br>\n",
    "All-or-nothing OT (1981):<br>\n",
    "- Alice wants to send secret message $m \\in {0,1}$ to Bob\n",
    "- Bob has a 50% probability of recieving *m*\n",
    "- Bob either learns *m* with 100% reliability or 0%\n",
    "- Alice doesn't know if Bob received *m*\n",
    "\n",
    "One-out-of-two OT (1-2 OT): <br>\n",
    "- Alice sends $m_0$ and $m_1$ to Bob\n",
    "- Bob chooses one message and learns nothing about the other\n",
    "- Alice does not know whichmessage Bob chose\n",
    "\n",
    "Build 1-2 OT using p-all-or-nothing OT: <br>\n",
    "- receiver builds two keys to represent his choice, $key_1, key_2$\n",
    "- Bob learns one key with 100% certainty other with 0%\n",
    "- Bob asks Alice to encrypt mesages $m_0$ and $m_1$ with using $key_j$\n",
    "- $j \\in {0,1}$\n",
    "- Bob receive $m_j$\n",
    "\n",
    "This is a two-level structured protocol"
   ]
  },
  {
   "cell_type": "markdown",
   "metadata": {},
   "source": [
    "Previous one-out-of two quantum oblivious transfer (QOT) scheme have a two-level structure based in no-go theorem.\n",
    "\n",
    "The no-go theorem:<br>\n",
    "Created in 1997 bey Lo. "
   ]
  },
  {
   "cell_type": "markdown",
   "metadata": {},
   "source": [
    "### Proposed Protocol\n",
    "\n",
    "Step 1: <br>\n",
    "- Bob creates qubit sequence according to his intentions\n",
    "    - $j_0$, choose |0> \n",
    "    - $j_1$, choose |+> \n",
    "- Sequence must be longer than OT sequence\n",
    "- N is minimum length (Bob receives N messages), M number channel checking qubits, K number loyalty testing qubits\n",
    "    - $QOT = N \\in (|0>,|+>) + M \\in (|0>,|1>,|+>,|->) + 2K \\in (|0>,|+>) $\n",
    "- Send sequence to Alice\n",
    "\n",
    "> Example: <br>\n",
    "Two qubits: $|0+>_{12} (N)$ to represent his choices and $|0+>_{34} (2K)$ for loyalty testing\n"
   ]
  },
  {
   "cell_type": "markdown",
   "metadata": {},
   "source": [
    "Step 2:\n",
    "\n",
    "- Alice receives sequence: checks for eavesdroppers and tests Bobs loyalty\n",
    "1. asks Bob to publish bases and states he created, <br>\n",
    "if error rate higher than threshold, then Eve is present on\tchannel \n",
    "    - communication aborted\n",
    "2. Checks Bobs loyalty: Alice randomly selects several positions and requests Bob to publish his bases\n",
    "    - If different results (e.g. not in |0>,|+>), measured is higher than given error rate then Bob is dishonest\n",
    "    - Communication aborted\n",
    "\n",
    "> $|0+0+>_{1234}$ , suppose Alice chooses qubit 4, asks Bob to publish base of qubit 4, measures it and compares the published and measured result. <br>\n",
    "Afterwards qubit 4 is discarded.\n"
   ]
  },
  {
   "cell_type": "markdown",
   "metadata": {},
   "source": [
    "Step 3:\n",
    "\n",
    "- Because of the loyalty test Bob must ask Alice toe reorder qubits\n",
    "- This is what the additional 2K qubits are for, prevent vacancies in the lost of choice intentions\n",
    "- The sequence after reordering represents Bobs real choices\n",
    "\n",
    "> Bobs asks Alice to reorder remaining qubits in order 21, <br>\n",
    "States become $|+0>$, with qubit 3 discarded, <br>\n",
    "Represent Bob’s choices $j_0$ and $j_1$ respectively\n"
   ]
  },
  {
   "cell_type": "markdown",
   "metadata": {},
   "source": [
    "Step 4:\n",
    "\n",
    "- Alice inputs secret message m0 and m1 through I,X,Y,Z operations according to 00,10,11,01\n",
    "\n",
    "> Alice performs Z and X so $01_{12}$ and $10_{34} $ <br>\n",
    "Converts $|+0>_{21}$ to $|-1>_{21}$\n"
   ]
  },
  {
   "cell_type": "markdown",
   "metadata": {},
   "source": [
    "Step 5:\n",
    "- Alice inserts decoy qubits from $|0>,|1>,|+>,|->$ for channel checking \n",
    "- Send sequence to Bob\n"
   ]
  },
  {
   "cell_type": "markdown",
   "metadata": {},
   "source": [
    "Step 6:\n",
    "\n",
    "- Bob receives sequence and asks Alice to publish positions and states of decoy qubits\n",
    "- If error rate higher than channel error rate abort communication\n",
    "    - Return to step 1\n",
    "- Otherwise Bob learns contents of the classical message by measuring the qubits with bases he prepared\n",
    "\n",
    "> Bob performs X and Z basis measurements to learn second and first classical messages, 1 and 1 <br>\n",
    "($01_{12}$ and $10_{34}$)\n"
   ]
  },
  {
   "cell_type": "markdown",
   "metadata": {},
   "source": [
    "Step 7:\n",
    "- Bob test Alice loyalty\n",
    "- Bob chooses random positions and asks Alice to publish her operations\n",
    "- Bob performs operations according to announcements to recover qubits into   $\\{|0>,|+>\\}$\n",
    "- Check error rate, if higher than threshold then Alice is dishonest\n",
    "\n",
    "> Bob asks Alice to publish operations (X) which performs on qubit 1 <br>\n",
    "Bob performs X on qubit 1 to recover state $|0>$\n"
   ]
  },
  {
   "cell_type": "code",
   "execution_count": null,
   "metadata": {},
   "outputs": [],
   "source": [
    "#Implementation in Qiskit\n",
    "\n",
    "from qiskit_aer import Aer\n",
    "from qiskit import QuantumCircuit, transpile\n",
    "from qiskit.visualization import plot_histogram\n",
    "from qiskit_textbook.tools import simon_oracle\n",
    "\n",
    "# Step 1: Bob creates qubit sequence\n",
    "# Define qubit sequence length\n",
    "# EXAMPLE:\n",
    "N = 2  # Bob's qubits\n",
    "M = 2  # channel checking qubits\n",
    "K = 2  # loyalty testing qubits\n",
    "\n",
    "# Create a quantum circuit with N + M + 2K qubits\n",
    "qc = QuantumCircuit(N + M + 2 * K)\n",
    "\n",
    "# Bob prepares qubits for choice intentions (|0〉 and |+〉 states)\n",
    "qc.h(range(N))  # |+〉 state for choice intention j1\n",
    "# Insert qubits for channel checking and loyalty testing\n",
    "qc.reset(range(N, N + M + 2 * K))  # Initialize qubits for channel checking and loyalty testing\n",
    "\n",
    "# Step 2: \n",
    "\n",
    "# Step 3: \n",
    "\n",
    "# Step 4: \n",
    "\n",
    "# Step 5: \n",
    "\n",
    "# Step 6: \n",
    "\n",
    "# Step 7: \n",
    "\n",
    "# Execute the quantum circuit\n",
    "simulator = Aer.get_backend('qasm_simulator')\n",
    "result = simulator.run(qc).result()\n",
    "counts = result.get_counts()\n",
    "\n",
    "# Visualize the measurement outcomes\n",
    "print(counts)\n",
    "plot_histogram(counts)\n"
   ]
  },
  {
   "cell_type": "markdown",
   "metadata": {},
   "source": [
    "### Security Analysis"
   ]
  },
  {
   "cell_type": "markdown",
   "metadata": {},
   "source": [
    "#### External Attack\n",
    "\n",
    "without channel checking or reduced frequency, Eve will be able to illicitly eavesdrop on their messages<br>\n",
    "\n",
    "Intercept-and-resend attack: <br>\n",
    "will disturb qubits states <br>\n",
    "each qubit will be disturbed with a probability of ¼ <br>\n",
    "\n",
    "reads sequence, measures and resend sequence<br>\n",
    "\n",
    "Entangling attack: <br>\n",
    "intercepts transmission, prepares ancillary qubit $|E>$ and perform unitary operation $U_e$"
   ]
  },
  {
   "cell_type": "markdown",
   "metadata": {},
   "source": [
    "#### Internal Attack\n"
   ]
  }
 ],
 "metadata": {
  "kernelspec": {
   "display_name": "Python 3",
   "language": "python",
   "name": "python3"
  },
  "language_info": {
   "name": "python",
   "version": "3.12.1"
  }
 },
 "nbformat": 4,
 "nbformat_minor": 2
}
