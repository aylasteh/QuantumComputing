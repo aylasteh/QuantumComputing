{
 "cells": [
  {
   "cell_type": "markdown",
   "metadata": {},
   "source": [
    "# One-out-of-two Quantum Oblivious Transfer based on Nonorthogonal States"
   ]
  },
  {
   "cell_type": "markdown",
   "metadata": {},
   "source": [
    "What is an obivious transfer (OT) protocol?\n",
    "\n",
    "Most common protocols are all-or-nothing and one-out-of-two. <br>\n",
    "All-or-nothing OT (1981):<br>\n",
    "- Alice wants to send secret message $m \\in {0,1}$ to Bob\n",
    "- Bob has a 50% probability of recieving *m*\n",
    "- Bob either learns *m* with 100% reliability or 0%\n",
    "- Alice doesn't know if Bob received *m*\n",
    "\n",
    "One-out-of-two OT (1-2 OT): <br>\n",
    "- Alice sends $m_0$ and $m_1$ to Bob\n",
    "- Bob chooses one message and learns nothing about the other\n",
    "- Alice does not know whichmessage Bob chose\n",
    "\n",
    "Build 1-2 OT using p-all-or-nothing OT: <br>\n",
    "- receiver builds two keys to represent his choice, $key_1, key_2$\n",
    "- Bob learns one key with 100% certainty other with 0%\n",
    "- Bob asks Alice to encrypt mesages $m_0$ and $m_1$ with using $key_j$\n",
    "- $j \\in {0,1}$\n",
    "- Bob receive $m_j$\n",
    "\n",
    "This is a two-level structured protocol"
   ]
  },
  {
   "cell_type": "markdown",
   "metadata": {},
   "source": [
    "Previous one-out-of two quantum oblivious transfer (QOT) scheme have a two-level structure based in no-go theorem.\n",
    "\n",
    "The no-go theorem:<br>\n",
    "Created in 1997 bey Lo.\n",
    "- says no protocol exists which satisfy:\n",
    "    - completeness: The protocol should ensure that honest parties can successfully complete the protocol with high probability\n",
    "    - Bindingness: An unconditionally honest party should be unable to commit to one value and later change it, regardless of any resources they possess\n",
    "    - Hidingness: An unconditionally honest party should be unable to determine the committed value before the commitment is opened, even with unlimited computational resources\n",
    "-  highlights the inherent trade-offs and limitations in achieving certain security properties simultaneously"
   ]
  },
  {
   "cell_type": "markdown",
   "metadata": {},
   "source": [
    "He's proof <br>\n",
    "\n",
    "TODO"
   ]
  },
  {
   "cell_type": "markdown",
   "metadata": {},
   "source": [
    "### Proposed Protocol\n",
    "\n",
    "Step 1: <br>\n",
    "- Bob creates qubit sequence according to his intentions\n",
    "    - $j_0$, choose |0> \n",
    "    - $j_1$, choose |+> \n",
    "- Sequence must be longer than OT sequence\n",
    "- N is minimum length (Bob receives N messages), M number channel checking qubits, K number loyalty testing qubits\n",
    "    - $QOT = N \\in (|0>,|+>) + M \\in (|0>,|1>,|+>,|->) + 2K \\in (|0>,|+>) $\n",
    "- Send sequence to Alice\n",
    "\n",
    "> Example: <br>\n",
    "Two qubits: $|0+>_{12} (N)$ to represent his choices and $|0+>_{34} (2K)$ for loyalty testing\n"
   ]
  },
  {
   "cell_type": "markdown",
   "metadata": {},
   "source": [
    "Step 2:\n",
    "\n",
    "- Alice receives sequence: checks for eavesdroppers and tests Bobs loyalty\n",
    "1. asks Bob to publish bases and states he created, <br>\n",
    "if error rate higher than threshold, then Eve is present on\tchannel \n",
    "    - communication aborted\n",
    "2. Checks Bobs loyalty: Alice randomly selects several positions and requests Bob to publish his bases\n",
    "    - If different results (e.g. not in |0>,|+>), measured is higher than given error rate then Bob is dishonest\n",
    "    - Communication aborted\n",
    "\n",
    "> $|0+0+>_{1234}$ , suppose Alice chooses qubit 4, asks Bob to publish base of qubit 4, measures it and compares the published and measured result. <br>\n",
    "Afterwards qubit 4 is discarded.\n"
   ]
  },
  {
   "cell_type": "markdown",
   "metadata": {},
   "source": [
    "Step 3:\n",
    "\n",
    "- Because of the loyalty test Bob must ask Alice to reorder qubits\n",
    "- This is what the additional 2K qubits are for, prevent vacancies in the lost of choice intentions\n",
    "- The sequence after reordering represents Bobs real choices\n",
    "\n",
    "> Bobs asks Alice to reorder remaining qubits in order 21, <br>\n",
    "States become $|+0>$, with qubit 3 discarded, <br>\n",
    "Represent Bob’s choices $j_0$ and $j_1$ respectively\n"
   ]
  },
  {
   "cell_type": "markdown",
   "metadata": {},
   "source": [
    "Step 4:\n",
    "\n",
    "- Alice inputs secret message m0 and m1 through I,X,Y,Z operations according to 00,10,11,01\n",
    "\n",
    "> Alice performs Z and X so $01_{12}$ and $10_{34} $ <br>\n",
    "Converts $|+0>_{21}$ to $|-1>_{21}$\n"
   ]
  },
  {
   "cell_type": "markdown",
   "metadata": {},
   "source": [
    "Step 5:\n",
    "- Alice inserts decoy qubits from $|0>,|1>,|+>,|->$ for channel checking \n",
    "- Send sequence to Bob\n"
   ]
  },
  {
   "cell_type": "markdown",
   "metadata": {},
   "source": [
    "Step 6:\n",
    "\n",
    "- Bob receives sequence and asks Alice to publish positions and states of decoy qubits\n",
    "- If error rate higher than channel error rate abort communication\n",
    "    - Return to step 1\n",
    "- Otherwise Bob learns contents of the classical message by measuring the qubits with bases he prepared\n",
    "\n",
    "> Bob performs X and Z basis measurements to learn second and first classical messages, 1 and 1 <br>\n",
    "($01_{12}$ and $10_{34}$)\n"
   ]
  },
  {
   "cell_type": "markdown",
   "metadata": {},
   "source": [
    "Step 7:\n",
    "- Bob test Alice loyalty\n",
    "- Bob chooses random positions and asks Alice to publish her operations\n",
    "- Bob performs operations according to announcements to recover qubits into   $\\{|0>,|+>\\}$\n",
    "- Check error rate, if higher than threshold then Alice is dishonest\n",
    "\n",
    "> Bob asks Alice to publish operations (X) which performs on qubit 1 <br>\n",
    "Bob performs X on qubit 1 to recover state $|0>$\n"
   ]
  },
  {
   "cell_type": "code",
   "execution_count": null,
   "metadata": {},
   "outputs": [],
   "source": [
    "#Implementation in Qiskit\n",
    "\n",
    "from qiskit_aer import Aer\n",
    "from qiskit import QuantumCircuit, transpile\n",
    "from qiskit.visualization import plot_histogram\n",
    "from qiskit_textbook.tools import simon_oracle\n",
    "\n",
    "# Step 1: Bob creates qubit sequence\n",
    "# Define qubit sequence length\n",
    "# EXAMPLE:\n",
    "N = 2  # Bob's qubits\n",
    "M = 2  # channel checking qubits\n",
    "K = 2  # loyalty testing qubits\n",
    "\n",
    "# Create a quantum circuit with N + M + 2K qubits\n",
    "qc = QuantumCircuit(N + M + 2 * K)\n",
    "\n",
    "# Bob prepares qubits for choice intentions (|0〉 and |+〉 states)\n",
    "qc.h(range(N))  # |+〉 state for choice intention j1\n",
    "# Insert qubits for channel checking and loyalty testing\n",
    "qc.reset(range(N, N + M + 2 * K))  # Initialize qubits for channel checking and loyalty testing\n",
    "\n",
    "# Step 2: \n",
    "\n",
    "# Step 3: \n",
    "\n",
    "# Step 4: \n",
    "\n",
    "# Step 5: \n",
    "\n",
    "# Step 6: \n",
    "\n",
    "# Step 7: \n",
    "\n",
    "# Execute the quantum circuit\n",
    "simulator = Aer.get_backend('qasm_simulator')\n",
    "result = simulator.run(qc).result()\n",
    "counts = result.get_counts()\n",
    "\n",
    "# Visualize the measurement outcomes\n",
    "print(counts)\n",
    "plot_histogram(counts)\n"
   ]
  },
  {
   "cell_type": "markdown",
   "metadata": {},
   "source": [
    "The implementation is dependent on the problem, the implementation of the example:"
   ]
  },
  {
   "cell_type": "code",
   "execution_count": 23,
   "metadata": {},
   "outputs": [
    {
     "name": "stdout",
     "output_type": "stream",
     "text": [
      "Loyalty check results (qubit 4): {'01': 500, '00': 524}\n",
      "Measurement results after step 6: {'00': 503, '01': 521}\n",
      "Measurement results after step 7 (qubit 1 only): {'1': 503}\n"
     ]
    },
    {
     "name": "stderr",
     "output_type": "stream",
     "text": [
      "/var/folders/nx/rglk77t94wngjnsv429fqdhc0000gn/T/ipykernel_83556/2048689240.py:18: DeprecationWarning: Using a qobj for run() is deprecated as of qiskit-aer 0.9.0 and will be removed no sooner than 3 months from that release date. Transpiled circuits should now be passed directly using `backend.run(circuits, **run_options).\n",
      "  result = simulator.run(qobj).result()\n",
      "/var/folders/nx/rglk77t94wngjnsv429fqdhc0000gn/T/ipykernel_83556/2048689240.py:42: DeprecationWarning: Using a qobj for run() is deprecated as of qiskit-aer 0.9.0 and will be removed no sooner than 3 months from that release date. Transpiled circuits should now be passed directly using `backend.run(circuits, **run_options).\n",
      "  result = simulator.run(qobj).result()\n",
      "/var/folders/nx/rglk77t94wngjnsv429fqdhc0000gn/T/ipykernel_83556/2048689240.py:52: DeprecationWarning: Using a qobj for run() is deprecated as of qiskit-aer 0.9.0 and will be removed no sooner than 3 months from that release date. Transpiled circuits should now be passed directly using `backend.run(circuits, **run_options).\n",
      "  result = simulator.run(qobj).result()\n",
      "/var/folders/nx/rglk77t94wngjnsv429fqdhc0000gn/T/ipykernel_83556/2048689240.py:57: UserWarning: FigureCanvasAgg is non-interactive, and thus cannot be shown\n",
      "  plot_histogram(counts).show()\n"
     ]
    }
   ],
   "source": [
    "from qiskit import QuantumCircuit, transpile, assemble\n",
    "from qiskit_aer import Aer\n",
    "from qiskit.visualization import plot_histogram\n",
    "\n",
    "\n",
    "# Step 1: Bob creates a qubit sequence\n",
    "qc_bob = QuantumCircuit(4, 2)  # 4 qubits, 2 classical bits for measurement\n",
    "qc_bob.h(1)  # Choice intention |+> for j1 (qubit 1)\n",
    "qc_bob.h(3)  # Loyalty testing |+> (qubit 3)\n",
    "\n",
    "# Step 2: Alice checks the channel and Bob's loyalty\n",
    "qc_bob.measure(3, 0)  # Measure qubit 4 (index 3) for loyalty\n",
    "\n",
    "# Simulate the loyalty check\n",
    "simulator = Aer.get_backend('qasm_simulator')\n",
    "compiled_circuit = transpile(qc_bob, simulator)\n",
    "qobj = assemble(compiled_circuit)\n",
    "result = simulator.run(qobj).result()\n",
    "counts = result.get_counts()\n",
    "\n",
    "print(\"Loyalty check results (qubit 4):\", counts)\n",
    "\n",
    "# Assuming loyalty check passed, we continue\n",
    "qc_bob.reset(3)  # Reset qubit 4 for reuse\n",
    "\n",
    "# Step 3: Reorder qubits (keeping original indices for clarity)\n",
    "\n",
    "\n",
    "# Step 4: Alice performs Z and X operations to encode messages\n",
    "qc_bob.z(0)  # Applying Z to qubit 0 (to encode message '0')\n",
    "qc_bob.x(1)  # Applying X to qubit 1 (to encode message '1')\n",
    "\n",
    "# Step 5: Alice inserts decoy qubits\n",
    "\n",
    "\n",
    "# Step 6: Bob measures the qubits to learn the classical messages\n",
    "qc_bob.measure([0, 1], [1, 0])  # Measuring qubits 0 and 1 to classical bits, reordered\n",
    "\n",
    "# Simulate the protocol after step 6\n",
    "compiled_circuit = transpile(qc_bob, simulator)\n",
    "qobj = assemble(compiled_circuit)\n",
    "result = simulator.run(qobj).result()\n",
    "counts = result.get_counts()\n",
    "print(\"Measurement results after step 6:\", counts)\n",
    "\n",
    "# Step 7: Bob tests Alice's loyalty by performing the announced operations\n",
    "qc_bob.x(1)  # Bob performs X on qubit 1 to recover state |0>\n",
    "\n",
    "# Simulate the full protocol after step 7\n",
    "compiled_circuit = transpile(qc_bob, simulator)\n",
    "qobj = assemble(compiled_circuit)\n",
    "result = simulator.run(qobj).result()\n",
    "counts = result.get_counts()\n",
    "print(\"Measurement results after step 7 (qubit 1 only):\", {key[-1]: val for key, val in counts.items() if key[-1] == '1'})\n",
    "\n",
    "# Output the results\n",
    "plot_histogram(counts).show()"
   ]
  },
  {
   "cell_type": "markdown",
   "metadata": {},
   "source": [
    "### Security Analysis"
   ]
  },
  {
   "cell_type": "markdown",
   "metadata": {},
   "source": [
    "#### External Attack\n",
    "\n",
    "without channel checking or reduced frequency, Eve will be able to illicitly eavesdrop on their messages<br>\n",
    "\n",
    "Intercept-and-resend attack: <br>\n",
    "will disturb qubits states <br>\n",
    "each qubit will be disturbed with a probability of ¼ <br>\n",
    "\n",
    "reads sequence, measures and resend sequence<br>\n",
    "\n",
    "Entangling attack: <br>\n",
    "intercepts transmission, prepares ancillary qubit $|E>$ and perform unitary operation $U_e$"
   ]
  },
  {
   "cell_type": "markdown",
   "metadata": {},
   "source": [
    "#### Internal Attack\n",
    "\n",
    "Goal Alice: learn Bob's choices <br>\n",
    "Goal Bob: learn content of Alice's messages <br>\n",
    "\n",
    "Alice cheating strategy: <br>\n",
    "No ability of entanglement:\n",
    "- perform a single qubit gate {I,X,Y,Z,H}\n",
    "- success probability: 25% or 29.3%\n",
    "- attack always detected in protocol (which step?)\n",
    "    - measurement in the incorrect basis can yield incorrect measurement results that nevertheless help Alice to determine Bob’s initial state\n",
    "\n",
    "With ability of entanglement:\n",
    "- perform two or more qubit gates\n",
    "- Bob required to also have ability of entanglement to resist attacks\n",
    "- attack will be detected\n",
    "- success probability 25% or 29.3%\n",
    "- teleportation attack: (in step 4)\n",
    "    - instead of inputting secret message into qubit C creates bell state, gives qubit B to Bob to repace C, and keeps qubit A\n",
    "    - Alice performs bell measurement on C and A\n",
    "    - According to measurement results gives i,X,Y,Z as her secret message\n",
    "    - Bob can then recover state $|0>_B or |+>_B$ with apllying said gate\n",
    "- Bob also has entanglement ability:\n",
    "    - prepare state ... and send A1 to alice\n",
    "    - \n",
    "\n",
    "continue\n",
    "\n",
    "Bob cheating strategy:\n",
    "- prepare entangled qubits\n",
    "- \n",
    "\n",
    "\n",
    "\n"
   ]
  },
  {
   "cell_type": "markdown",
   "metadata": {},
   "source": [
    "### Efficency Analysis"
   ]
  },
  {
   "cell_type": "markdown",
   "metadata": {},
   "source": [
    "\n",
    "Comparison of four protocols: Yang's, YYLSZ, YSW and the proposed protocol.\n",
    "\n",
    "R = message bits that are received\n",
    "\n",
    "Yang's protocol:\n",
    "- uses B92 protocol\n",
    "- four qubits for unambiguous key and only one transmission\n",
    "- detection strategy with decoy qubits used\n",
    "- $4 * R + 50$\n",
    "\n",
    "YYYLSZ protocol:\n",
    "- four qubits on average to obtain an unambiguous key using\n",
    "its all-or-nothing QOT strategy i.e. p = 1/4\n",
    "- two transmissions needed\n",
    "- strategy is based on the law of large number and will consume a large number of qubits\n",
    "- $4 * R + 2 * 50$\n",
    "\n",
    "YSW protocol:\n",
    "- four qubits for unambiguous key and one transmission\n",
    "- not include loyalty testing\n",
    "- Errors may be detected at the application level\n",
    "- $4 * R + 50$\n",
    "\n",
    "Proposed protocol:\n",
    "- based directly on quantum resources and consumes one qubit for\n",
    "each received bit\n",
    "- requires two transmissions\n",
    "- $R + 2 * 50$\n"
   ]
  },
  {
   "cell_type": "markdown",
   "metadata": {},
   "source": [
    "<img src=\"QOTEfficencyComparison.png\" width=500px height=130px/>"
   ]
  },
  {
   "cell_type": "markdown",
   "metadata": {},
   "source": [
    "Quantum Resources for One Message Bit: Number of quantum resources consumed for each received bit, without decoy qubits <br>\n",
    "Number of Transmissions: Number of transmissions for one sequence <br>\n",
    "Decoy Qubits: Number of decoy qubits, considering the number of transmissions <br>\n",
    "Total Cost: The total average quantum resource consumption for R received bits"
   ]
  },
  {
   "cell_type": "markdown",
   "metadata": {},
   "source": [
    "<img src=\"QOTComparisonResult.png\" width=400px height=300px/>"
   ]
  }
 ],
 "metadata": {
  "kernelspec": {
   "display_name": "Python 3",
   "language": "python",
   "name": "python3"
  },
  "language_info": {
   "codemirror_mode": {
    "name": "ipython",
    "version": 3
   },
   "file_extension": ".py",
   "mimetype": "text/x-python",
   "name": "python",
   "nbconvert_exporter": "python",
   "pygments_lexer": "ipython3",
   "version": "3.12.1"
  }
 },
 "nbformat": 4,
 "nbformat_minor": 2
}
