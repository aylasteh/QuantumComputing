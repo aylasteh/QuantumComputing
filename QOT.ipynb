{
 "cells": [
  {
   "cell_type": "markdown",
   "metadata": {},
   "source": [
    "<center><img src=\"fcul.png\"/></center>"
   ]
  },
  {
   "cell_type": "markdown",
   "metadata": {
    "slideshow": {
     "slide_type": "slide"
    }
   },
   "source": [
    "$ \\newcommand{\\bra}[1]{\\langle #1|} $\n",
    "$ \\newcommand{\\ket}[1]{|#1\\rangle} $\n",
    "$\\newcommand{\\inp}[2]{\\langle{#1}|{#2}\\rangle}$ \n",
    "$\\newcommand{\\bracket}[2]{\\langle{#1}|{#2}\\rangle}$\n",
    "$\\newcommand{\\ds}{\\displaystyle}$\n",
    "$\\newcommand{\\id}{\\mathbb{ID}}$\n",
    "$\\newcommand{\\tensor}{\\otimes}$\n",
    "$\\newcommand{\\hide}[1]{}$\n",
    "# <b>One-out-of-two Quantum Oblivious Transfer based on Nonorthogonal States</b>"
   ]
  },
  {
   "cell_type": "markdown",
   "metadata": {},
   "source": [
    "## <b>Introduction</b>"
   ]
  },
  {
   "cell_type": "markdown",
   "metadata": {
    "slideshow": {
     "slide_type": "slide"
    }
   },
   "source": [
    "What is an obivious transfer (OT) protocol?\n",
    "An oblivious transfer protocol means a sender sends one or more pieces of information and stays oblivious to which message was chosen.\n",
    "\n",
    "The most common protocols are all-or-nothing and one-out-of-two. <br>\n",
    "\n",
    "<ins>All-or-nothing OT (1981):</ins><br>\n",
    "An all-or-nothing protocol is when Bob learns the message sent by Alice either with 100% reliability or 0%. So Alice sends a message $m \\in {0,1}$ to Bob. Bob receives the message *m* with a probability of 50%. Bob either learns *m* with 100% reliability or not at all, and Alice does not know if Bob received the message. This is oblivious transfer because Bob either gets the correct piece of information or gets no useful information at all, and Alice is unaware of whether Bob has successfully received the message.\n",
    "\n",
    "<ins>One-out-of-two OT (1-2 OT):</ins> <br>\n",
    "Alice sends two messages to Bob, $m_0$ and $m_1$. Bob chooses to learn one message and learns nothing about the other message. Bob does not disclose his choice to Alice. This is oblivious transfer because Alice never learns which message Bob knows, and Bob does not learn any of the content of the message he did not choose."
   ]
  },
  {
   "cell_type": "markdown",
   "metadata": {
    "slideshow": {
     "slide_type": "slide"
    }
   },
   "source": [
    "<ins>Build 1-2 OT using p-all-or-nothing OT:</ins> <br>\n",
    "Bob generates two keys, $key_1, key_2$, and uses the all-or-nothing protocol to learn one key with 100% certainty and the other with 0%. Bob asks Alice to encrypt messages $m_0$ and $m_1$ using $key_j$ with $j \\in {0,1}$, corresponding to the key he chose to learn. Bob receives the messages and can only decrypt the message for which he chose the key. An example protocol:\n",
    "- step 1: Bob generates keys\n",
    "- step 2: All-or-Nothing OT for keys\n",
    "- step 3: Alice encrypts messages\n",
    "- step 4: Transmission of ciphertexts\n",
    "- step 5: Bob decrypts the message <br>\n",
    "\n",
    "This is a two-level structured protocol."
   ]
  },
  {
   "cell_type": "markdown",
   "metadata": {
    "slideshow": {
     "slide_type": "slide"
    }
   },
   "source": [
    "Previous one-out-of-two quantum oblivious transfer (QOT) schemes have a two-level structure based on the no-go theorem.\n",
    "\n",
    "<ins>The no-go theorem:</ins><br>\n",
    "In 1997, Lo introduced the no-go theorem for OT protocols. The theorem states that all one-sided two-party computations are potentially insecure. It applies to all protocols where two parties must input two values, *i* and *j* together into a fuction *f(i,j)*, and only one party is allowed to learn the result. This theorem includes the one-out-of-two Quantum Oblivious Transfer (QOT) where the function *f(i,j)* is the selector. <br>\n",
    "The theorem aims to show the security holes of OT protocols by demonstrating that the party not learning the result could potentially gain information."
   ]
  },
  {
   "cell_type": "markdown",
   "metadata": {
    "slideshow": {
     "slide_type": "slide"
    }
   },
   "source": [
    "To counteract this theorem, He's proof was created. With the proof, new oblivious transfer protocols can be developed.\n",
    "\n",
    "<ins>He's proof:</ins> <br>\n",
    "In the proof, a secure all-or-nothing QOT scheme is created using four entangled states, circumventing the limitations outlined by Lo’s no-go theorem. The key to the success of the proof is that the receiver inputs their choices before the sender inputs her messages $m_0$ and $m_1$. By doing this, it allows for differentiation between the function *f* of the one-out-of-two protocol and those from Lo’s no-go theory. This led to the development of other QOT protocols that are not constrained by Lo's theorem, thereby expanding the possibilities for secure quantum communication in cryptography.\n",
    "\n",
    "A new protocol using this proof is proposed in the next section."
   ]
  },
  {
   "cell_type": "markdown",
   "metadata": {},
   "source": [
    "***"
   ]
  },
  {
   "cell_type": "markdown",
   "metadata": {
    "slideshow": {
     "slide_type": "slide"
    }
   },
   "source": [
    "## <b>Proposed Protocol</b>\n",
    "\n",
    "The new protocol proposed in the parper has 7 steps:\n",
    "\n",
    "Step 1: <br>\n",
    "- Bob creates qubit sequence according to his intentions\n",
    "    - $j_0$, choose $\\ket 0$ \n",
    "    - $j_1$, choose $\\ket +$\n",
    "- Sequence must be longer than OT sequence\n",
    "- N is minimum length (Bob receives N messages), M number channel checking qubits, K number loyalty testing qubits\n",
    "    - $QOT = N \\in (\\ket0, \\ket+) + M \\in (\\ket0,\\ket1,\\ket+,\\ket-) + 2K \\in (\\ket0,\\ket+) $\n",
    "- Send sequence to Alice\n",
    "\n",
    "> Example: <br>\n",
    "Two qubits: $\\ket{0+}_{12} (N)$ to represent his choices and $\\ket{0+}_{34} (2K)$ for loyalty testing\n"
   ]
  },
  {
   "cell_type": "markdown",
   "metadata": {
    "slideshow": {
     "slide_type": "slide"
    }
   },
   "source": [
    "Step 2:\n",
    "\n",
    "- Alice receives sequence: checks for eavesdroppers and tests Bobs loyalty\n",
    "1. asks Bob to publish bases and states he created, <br>\n",
    "if error rate higher than threshold, then Eve is present on\tchannel \n",
    "    - communication aborted\n",
    "2. Checks Bobs loyalty: Alice randomly selects several positions and requests Bob to publish his bases\n",
    "    - If different results (e.g. not in $\\ket{0}$,$\\ket{+}$), measured is higher than given error rate then Bob is dishonest\n",
    "    - Communication aborted\n",
    "\n",
    "> $\\ket {0+0+}_{1234}$ , suppose Alice chooses qubit 4, asks Bob to publish base of qubit 4, measures it and compares the published and measured result. <br>\n",
    "Afterwards qubit 4 is discarded.\n"
   ]
  },
  {
   "cell_type": "markdown",
   "metadata": {
    "slideshow": {
     "slide_type": "slide"
    }
   },
   "source": [
    "Step 3:\n",
    "\n",
    "- Because of the loyalty test Bob must ask Alice to reorder qubits\n",
    "    - This is a precautionary measure, in case the eavesdropper Eve intercepted the message, the message is reordered so eve doesn't know the message going forward\n",
    "- This is what the additional 2K qubits are for, prevent vacancies in the lost of choice intentions\n",
    "- The sequence after reordering represents Bobs real choices\n",
    "\n",
    "> Bobs asks Alice to reorder remaining qubits in order 21, <br>\n",
    "States become $\\ket{+0}$, with qubit 3 discarded, <br>\n",
    "Represent Bob’s choices $j_0$ and $j_1$ respectively\n"
   ]
  },
  {
   "cell_type": "markdown",
   "metadata": {
    "slideshow": {
     "slide_type": "slide"
    }
   },
   "source": [
    "Step 4:\n",
    "\n",
    "- Alice inputs secret message $m_0$ and $m_1$ through *I, X, Y, Z* operations according to *00, 10, 11, 01*\n",
    "\n",
    "> Alice performs Z and X so $01_{12}$ and $10_{34} $ <br>\n",
    "Converts $\\ket{+0}_{21}$ to $\\ket{-1}_{21}$\n"
   ]
  },
  {
   "cell_type": "markdown",
   "metadata": {
    "slideshow": {
     "slide_type": "slide"
    }
   },
   "source": [
    "Step 5:\n",
    "- Alice inserts decoy qubits from $\\ket0,\\ket1,\\ket+,\\ket-$ for channel checking \n",
    "- Send sequence to Bob\n"
   ]
  },
  {
   "cell_type": "markdown",
   "metadata": {
    "slideshow": {
     "slide_type": "slide"
    }
   },
   "source": [
    "Step 6:\n",
    "\n",
    "- Bob receives sequence and asks Alice to publish positions and states of decoy qubits\n",
    "- If error rate higher than channel error rate abort communication\n",
    "    - Return to step 1\n",
    "- Otherwise Bob learns contents of the classical message by measuring the qubits with bases he prepared\n",
    "\n",
    "> Bob performs X and Z basis measurements to learn second and first classical messages, 1 and 1 <br>\n",
    "($01_{12}$ and $10_{34}$)\n"
   ]
  },
  {
   "cell_type": "markdown",
   "metadata": {
    "slideshow": {
     "slide_type": "slide"
    }
   },
   "source": [
    "Step 7:\n",
    "- Bob tests Alice loyalty\n",
    "- Bob chooses random positions and asks Alice to publish her operations\n",
    "- Bob performs operations according to announcements to recover qubits into   $\\{\\ket0,\\ket+\\}$\n",
    "- Check error rate, if higher than threshold then Alice is dishonest\n",
    "\n",
    "> Bob asks Alice to publish operations (X) which performs on qubit 1 <br>\n",
    "Bob performs X on qubit 1 to recover state $\\ket0$\n"
   ]
  },
  {
   "cell_type": "markdown",
   "metadata": {},
   "source": [
    "#### Why is this an oblivious transfer protocol? <br>\n",
    "This is an oblivious transfer protocol because Bob only learns either message $m_0$ or message $m_1$, and nothing about the other message, and Alice does not know which message Bob chooses to learn. <br>\n",
    "In step 1, Bob disguises his choices. This step also helps with the bindingness component that is expected in cryptographic protocols. In step 4, the bits are reordered, so Bob does not know which qubits belong to message 0 and which to message 1. Bob chooses a message $m_0$ or $m_1$ without knowing which message he is choosing. Bob knows which qubit belongs to which message because he asks Alice to publish the positions and states in step 7. As Alice provides Bob with the states and positions in step 7, but does not learn which message he chooses in the end, Alice never learns which message he chose to learn"
   ]
  },
  {
   "cell_type": "markdown",
   "metadata": {},
   "source": [
    "***"
   ]
  },
  {
   "cell_type": "markdown",
   "metadata": {
    "slideshow": {
     "slide_type": "skip"
    }
   },
   "source": [
    "## <b>Implementation</b>\n",
    "\n",
    "#### This implementation follows the example presented in the paper, with some steps intentionally skipped as specified."
   ]
  },
  {
   "cell_type": "code",
   "execution_count": null,
   "metadata": {
    "slideshow": {
     "slide_type": "skip"
    }
   },
   "outputs": [],
   "source": [
    "from qiskit import QuantumCircuit, transpile, assemble\n",
    "from qiskit_aer import Aer\n",
    "from qiskit.visualization import plot_histogram\n",
    "\n",
    "\n",
    "# Step 1: Bob creates a qubit sequence\n",
    "qc_bob = QuantumCircuit(4, 2)  # 4 qubits, 2 classical bits for measurement\n",
    "qc_bob.h(1)  # Choice intention |+> for j1 (qubit 1)\n",
    "qc_bob.h(3)  # Loyalty testing |+> (qubit 3)\n",
    "\n",
    "# Step 2: Alice checks the channel and Bob's loyalty\n",
    "qc_bob.measure(3, 0)  # Measure qubit 4 (index 3) for loyalty\n",
    "\n",
    "# Simulate the loyalty check\n",
    "\n",
    "# Assuming loyalty check passed, we continue\n",
    "qc_bob.reset(3)  # Reset qubit 4 for reuse\n",
    "\n",
    "# Step 3: Reorder qubits (keeping original indices for clarity)\n",
    "\n",
    "# Step 4: Alice performs Z and X operations to encode messages\n",
    "qc_bob.z(0)  # Applying Z to qubit 0 (to encode message '0')\n",
    "qc_bob.x(1)  # Applying X to qubit 1 (to encode message '1')\n",
    "\n",
    "\n",
    "# Step 5: Alice inserts decoy qubits (in this implementation, we skip this step)\n",
    "\n",
    "\n",
    "# Step 6: Bob measures the qubits to learn the classical messages\n",
    "qc_bob.measure([0,1], [0,1])  # Measuring qubits 0 and 1 to classical bits, reordered\n",
    "\n",
    "# Simulate the protocol after step 6\n",
    "simulator = Aer.get_backend('qasm_simulator')\n",
    "compiled_circuit = transpile(qc_bob, simulator)\n",
    "result = simulator.run(compiled_circuit).result()\n",
    "counts = result.get_counts()\n",
    "print(\"Measurement results after step 6:\", counts)\n",
    "\n",
    "# Step 7: Bob tests Alice's loyalty by performing the announced operations\n",
    "qc_bob.x(1)  # Bob performs X on qubit 1 to recover state |0>\n",
    "\n",
    "# Simulate the full protocol after step 7\n",
    "compiled_circuit = transpile(qc_bob, simulator)\n",
    "result = simulator.run(compiled_circuit).result()\n",
    "counts = result.get_counts()\n",
    "print(\"Measurement results after step 7 (qubit 1 only):\", {key[-1]: val for key, val in counts.items() if key[0] == '1'})\n",
    "\n",
    "# Output the results\n",
    "plot_histogram(counts)"
   ]
  },
  {
   "cell_type": "markdown",
   "metadata": {},
   "source": [
    "#### Below is another (more generalized) Implementation"
   ]
  },
  {
   "cell_type": "code",
   "execution_count": null,
   "metadata": {},
   "outputs": [],
   "source": [
    "from qiskit import QuantumCircuit, transpile, assemble\n",
    "from qiskit_aer import Aer\n",
    "from qiskit.visualization import plot_histogram\n",
    "\n",
    "N = 2\n",
    "M = 0\n",
    "K = 1\n",
    "\n",
    "total_num_qubits = N + M + 2*K\n",
    "\n",
    "#Define the secret messages m0 and m1 as operations\n",
    "def encode_message(qc, qubit, message):\n",
    "    if message == \"00\":\n",
    "        pass  # Identity (I) gate - do nothing\n",
    "    elif message == \"10\":\n",
    "        qc.x(qubit)\n",
    "    elif message == \"11\":\n",
    "        qc.y(qubit)\n",
    "    elif message == \"01\":\n",
    "        qc.z(qubit)\n",
    "\n",
    "#Step 1: Bob prepares the qubit sequence\n",
    "def prepare_qubits(bob_choices, num_qubits, num_cbits):\n",
    "    n = len(bob_choices)\n",
    "    qc_bob = QuantumCircuit(num_qubits, num_cbits)  # N qubits, N classical bits\n",
    "    for i, choice in enumerate(bob_choices):\n",
    "        if choice == 0:  # |0>\n",
    "            pass  # Default is |0>, no need to do anything\n",
    "        elif choice == 1:  # |+>\n",
    "            qc_bob.h(i)\n",
    "    return qc_bob\n",
    "\n",
    "#Step 2: Alice checks Bob's loyalty\n",
    "def alice_checks_channel(qc, qubit_index):\n",
    "    qc.measure(qubit_index, 0)  # Measure a random qubit\n",
    "    return qc\n",
    "\n",
    "#Step 3: Reorder the qubits (just returning the input to simulate the process)\n",
    "def reorder_qubits(qc, choices, q_index):\n",
    "    # For simplicity, we assume the loyalty test keeps the order the same\n",
    "    qc.reset(q_index)\n",
    "    return qc, choices\n",
    "    \n",
    "#Step 4: Alice encodes her messages\n",
    "def alice_encodes_messages(qc, messages):\n",
    "    for i, message in enumerate(messages):\n",
    "        encode_message(qc, i, message)\n",
    "    return qc\n",
    "\n",
    "#Step 6: Bob measures to decode messages\n",
    "def bob_decodes_messages(qc, bob_choices):\n",
    "    for i, choice in enumerate(bob_choices[0:N]):\n",
    "        if choice == 0:  # measure in the computational basis\n",
    "            qc.measure(i, i)\n",
    "        elif choice == 1:  # measure in the diagonal basis\n",
    "            qc.h(i)\n",
    "            qc.measure(i, i)\n",
    "    return qc\n",
    "\n",
    "#Example usage\n",
    "bob_choices = [0, 1, 0, 1]  # Bob's choice intentions (|0> and |+>)\n",
    "messages = [\"01\", \"10\"]  # Alice's encoded messages\n",
    "\n",
    "#Step 1: Bob prepares qubits\n",
    "qc_bob = prepare_qubits(bob_choices, total_num_qubits, N)\n",
    "\n",
    "#Step 2: Alice runs a loyalty test\n",
    "qc_bob = alice_checks_channel(qc_bob, 3)\n",
    "\n",
    "#Step 3: Reorder the qubits (skipping channel checking)\n",
    "qc_reordered, reordered_choices = reorder_qubits(qc_bob, bob_choices, 3)\n",
    "\n",
    "#Step 4: Alice encodes her messages\n",
    "qc_alice = alice_encodes_messages(qc_reordered, messages)\n",
    "\n",
    "#Step 6: Bob measures to decode messages\n",
    "qc_bob_measures = bob_decodes_messages(qc_alice, reordered_choices)\n",
    "\n",
    "#Execute the circuit\n",
    "backend = Aer.get_backend('qasm_simulator')\n",
    "compiled_circuit = transpile(qc_bob_measures, backend)\n",
    "result = backend.run(compiled_circuit).result()\n",
    "counts = result.get_counts()\n",
    "\n",
    "\n",
    "print(\"Measurement results:\", counts)\n",
    "plot_histogram(counts)"
   ]
  },
  {
   "cell_type": "markdown",
   "metadata": {},
   "source": [
    "***"
   ]
  },
  {
   "cell_type": "markdown",
   "metadata": {
    "slideshow": {
     "slide_type": "slide"
    }
   },
   "source": [
    "## <b>Security Analysis</b>\n",
    "Two security conditions are considered in this study: security against <b>External </b> and <b>Internal attacks</b>. \n",
    "\n",
    "- <b>External attacks</b> involve an eavesdropper, Eve, attempting to steal messages without being detected. \n",
    "\n",
    "- <b>Internal attacks</b> involve either Alice or Bob attempting to steal the other’s secret information; i.e., Alice wants to learn Bob’s choices, or\n",
    "Bob wants to learn the contents of both of Alice’s messages."
   ]
  },
  {
   "cell_type": "markdown",
   "metadata": {
    "slideshow": {
     "slide_type": "slide"
    }
   },
   "source": [
    "### <b>External Attack</b>\n",
    "\n",
    "Without channel checking or reducing frequency, Eve can eavesdrop on Alice and Bob's messages. The proposed protocol inserts random decoy qubits ($\\in {\\ket0,\\ket1,\\ket+,\\ket-}$) into the transmitted sequence for channel checking. Their positions and states are published and measured. If the results with the same bases differ and the error rate exceeds a certain threshold, Eve is detected. Two common external attack strategies are the <b>Intercept-and-Resend Attack</b> and the <b>Entangling Attack</b>.<br>\n",
    "\n",
    "#### <ins>Intercept-and-resend attack:</ins> <br>\n",
    "\n",
    "- How the eavesdropper (Eve) executes this attack:\n",
    "    - Eve intercepts all qubits during transmission.\n",
    "    - Measures the qubits to obtain the message.\n",
    "    - Resends the qubits to the receiver.\n",
    "      \n",
    "<br>\n",
    "\n",
    "- How the proposed protocol counteracts this attack:\n",
    "    - Eve does not know the bases prepared by Alice and Bob that are used on the qubits.\n",
    "    - When Eve measures the the intercepted qubits, she disturbs these qubits' states.\n",
    "    - Each qubit has a $25%$ chance of detecting Eve's presence, and the detection rate increases with the number of decoy qubits, M.\n",
    "    - Security level, <b>ξ1</b>, is calculated as: $ξ_1 = 1 - (\\frac{3}{4})^{M}$\n",
    "\n",
    "#### <ins>Entangling attack:</ins> <br>\n",
    "- How the eavesdropper (Eve) executes this attack:\n",
    "    - Eve intercepts all qubits during transmission.\n",
    "    - To avoid disturbing the state of an intercepted qubit, Eve prepares an ancillary qubit $\\ket E$, and performs a unitary operation $U_e$ to entangle the intercepted qubit with her qubit $\\ket E$.\n",
    "     > $U_e(\\ket0\\ket{E}) = a\\ket0\\ket{e_{00}} + b\\ket1\\ket{e_{01}}$ <br>\n",
    "       $U_e(\\ket1\\ket{E}) = c\\ket0\\ket{e_{10}} + d\\ket1\\ket{e_{11}}$ <br><br>\n",
    "       $U_e(\\ket+\\ket{E}) = \\frac{1}{\\sqrt{2}}(a\\ket0\\ket{e_{00}} + b\\ket1\\ket{e_{01}} + c\\ket0\\ket{e_{10}} + d\\ket1\\ket{e_{11}}) = \\frac{1}{2}\\ket+(a\\ket{e_{00}} + b\\ket{e_{01}} + c\\ket{e_{10}} + d\\ket{e_{11}}) + \\frac{1}{2}\\ket-(a\\ket{e_{00}} - b\\ket{e_{01}} + c\\ket{e_{10}} - d\\ket{e_{11}}) $\n",
    "       $U_e(\\ket-\\ket{E}) = \\frac{1}{\\sqrt{2}}(a\\ket0\\ket{e_{00}} + b\\ket1\\ket{e_{01}} - c\\ket0\\ket{e_{10}} - d\\ket1\\ket{e_{11}}) = \\frac{1}{2}\\ket+(a\\ket{e_{00}} + b\\ket{e_{01}} - c\\ket{e_{10}} - d\\ket{e_{11}}) + \\frac{1}{2}\\ket-(a\\ket{e_{00}} - b\\ket{e_{01}} - c\\ket{e_{10}} + d\\ket{e_{11}})$ <br>\n",
    "    - $\\ket{e_{00}}$, $\\ket{e_{01}}$, $\\ket{e_{10}}$ and $\\ket{e_{11}}$ are four states determined by the unitary operation $U_e$.    \n",
    "    - $\\|a\\|^2 + \\|b\\|^2 = 1$ and $\\|c\\|^2 + \\|d\\|^2 = 1$\n",
    "      \n",
    "<br>\n",
    "\n",
    "- How the proposed protocol counteracts this attack ($1_{st}$ Possibility):\n",
    "    -  If Eve wishes to avoid detection, the operation $U_e$ must satisfy:\n",
    "    > $a = d = 1$<br>\n",
    "    > $b = c = 0$<br>\n",
    "    > $\\ket{e_{00}} = \\ket{e_{11}}$\n",
    "    - Eve cannot reliably ensure the previously stated conditions (she doesn't know the state of the qubits being transmitted to do so).\n",
    "    - The proposed protocol ensures that no information can be obtained in this way.\n",
    "<br><br>\n",
    "- How the proposed protocol counteracts this attack ($2_{nd}$ Possibility):\n",
    "    -  Alice and Bob may also have the ability to entangle qubits.\n",
    "    -  If this is the case, before they transmit any qubit through the channel, they first prepare a Bell state $\\ket{\\phi^+}_{AB}$.\n",
    "    -  Qubit A is then transmitted through the channel.\n",
    "    -  Eve will not be able to entangle qubit A with her ancillary qubit $\\ket E$ because qubit A is already <b><i>maximally entangled</i></b>."
   ]
  },
  {
   "cell_type": "markdown",
   "metadata": {
    "slideshow": {
     "slide_type": "slide"
    }
   },
   "source": [
    "### <b>Internal Attack</b>\n",
    "Internal attacks involve the legal agents Alice and Bob attempting to steal each other’s secret information; i.e., Alice wants to learn Bob’s choices, or Bob wants to learn the contents of all messages sent by Alice. Therefore, two conditions must be discussed, namely, Alice’s and Bob’s cheating strategies.\n",
    "\n",
    "In other words in an Internal Attack:\n",
    "- Alice's Goal: learn Bob's choices <br>\n",
    "- Bob's Goal: learn the contents of both of Alice's secret messages <br><br>\n",
    "\n",
    "\n",
    "\n"
   ]
  },
  {
   "cell_type": "markdown",
   "metadata": {
    "slideshow": {
     "slide_type": "slide"
    }
   },
   "source": [
    "#### <i>Alice cheating strategy:</i> <br>\n",
    "<ins>No ability of entanglement:</ins>\n",
    "- How Alice executes this attack:\n",
    "  - Alice can learn 25% of Bob’s choices.\n",
    "  - Using POVM, Alice has a 29.3% chance to learn Bob’s choices.\n",
    "  - Measurements in the incorrect basis can nevertheless help Alice determine Bob’s initial state.\n",
    "<br><br>  \n",
    "- How the proposed protocol counteracts this attack:\n",
    "  - Alice must randomly create states $\\in \\{\\ket0,\\ket1,\\ket+,\\ket-\\}$ and send them to Bob.\n",
    "  - She cannot know Bob’s final measurement results as he does not publish the bases.\n",
    "  - For each bit, Bob will be unable to correctly decrypt with a probability of 17.675% at the Alice’s loyalty testing stage, which will make him aware of Alice’s dishonesty.\n",
    "  - The probability of finding Alice dishonest can be calculated as follows: $ξ_2 = 1 - (1-0 17675)^D$, where <b><i>D</i></b> is the number of qubits used for loyalty testing.\n",
    "  - Therefore, Bob can detect if Alice is cheating.\n",
    "\n",
    "<ins>With ability of entanglement:</ins>\n",
    "- How Alice executes this attack:\n",
    "  - Alice can prepare Bell states in $\\ket{\\phi^{+}}_{AB}$ to perform a teleportation attack.\n",
    "  - In this way, she can pass Alice’s loyalty testing, and then, learn Bob’s choices with 25% or 29.3% chance without being detected.\n",
    "<br><br> \n",
    "- How the proposed protocol counteracts this attack:\n",
    "  - Bob should also have the same entanglement ability as Alice.\n",
    "  - He can prepare a Bell state $\\ket{\\phi^{+}}_{A_1B_1}$.\n",
    "  - Bob sends qubit A1 to Alice, and in turn, Alice cannot prepare an entangled state with $A_1$ ($A_1$ is maximally entagled with $B_1$).\n",
    "  - Alice can perform an operation {<i>I, X, Y, Z</i>} on A1.\n",
    "  - Bob can further check Alice's loyalty by measuring qubits A1 and B1 with specific bases (IY basis and XZ basis).\n",
    "  - The security level $ξ_3$ can be obtained by calculating: $ξ_3 = 1 - (0.56275)^F$ (with <b><i>F</i></b> being the number of detected entangled qubit pairs).\n",
    "  - Alice’s cheating becomes more and more difficult\n",
    "because she has to have the technology to store the qubits received from Bob. However, such a long-term quantum storage technology is still a technical challenge and an open issue today."
   ]
  },
  {
   "cell_type": "markdown",
   "metadata": {},
   "source": [
    "#### <i>Bob cheating strategy:</i> <br>\n",
    "- How Bob executes this attack:\n",
    "  - Bob can prepare entangled qubits in the form $\\ket{\\phi^+} = \\frac{1}{\\sqrt{2}}(\\ket{00} + \\ket{11})_{12}$.\n",
    "  - He can learn the contents of all messages from Alice.\n",
    "<br><br> \n",
    "- How the proposed protocol counteracts this attack:\n",
    "  - Only two states, $\\ket0$ and $\\ket+$, can be measured in the proposed protocol.\n",
    "  - Alice randomly selects K positions and asks Bob to publish the bases he prepared in the channel and loyalty checking stage.\n",
    "  - If different measurement results are given, i.e., $\\notin \\{\\ket0, \\ket+\\}$, Bob is found dishonest.\n",
    "  - The detection rate by legal agents, or the security level $ξ_4$, is as given by: $ξ_4 = 1 - \\big( \\frac{1}{2} \\big)^K$ (where <b><i>K</i></b> is the number of qubits used for loyalty checking)."
   ]
  },
  {
   "cell_type": "markdown",
   "metadata": {},
   "source": [
    "***"
   ]
  },
  {
   "cell_type": "markdown",
   "metadata": {
    "slideshow": {
     "slide_type": "slide"
    }
   },
   "source": [
    "## <b>Efficency Analysis</b>"
   ]
  },
  {
   "cell_type": "markdown",
   "metadata": {
    "slideshow": {
     "slide_type": "slide"
    }
   },
   "source": [
    "\n",
    "Comparison of four protocols: Yang's, YYLSZ, YSW and the proposed protocol.\n",
    "\n",
    "R = message bits that are received\n",
    "\n",
    "Yang's protocol:\n",
    "- uses B92 protocol\n",
    "- four qubits for unambiguous key and only one transmission\n",
    "- detection strategy with decoy qubits used\n",
    "- $4 * R + 50$\n",
    "\n",
    "YYYLSZ protocol:\n",
    "- four qubits on average to obtain an unambiguous key using\n",
    "its all-or-nothing QOT strategy i.e. p = 1/4\n",
    "- two transmissions needed\n",
    "- strategy is based on the law of large number and will consume a large number of qubits\n",
    "- $4 * R + 2 * 50$"
   ]
  },
  {
   "cell_type": "markdown",
   "metadata": {
    "slideshow": {
     "slide_type": "slide"
    }
   },
   "source": [
    "\n",
    "YSW protocol:\n",
    "- four qubits for unambiguous key and one transmission\n",
    "- not include loyalty testing\n",
    "- Errors may be detected at the application level\n",
    "- $4 * R + 50$\n",
    "\n",
    "Proposed protocol:\n",
    "- based directly on quantum resources and consumes one qubit for\n",
    "each received bit\n",
    "- requires two transmissions\n",
    "- $R + 2 * 50$\n"
   ]
  },
  {
   "cell_type": "markdown",
   "metadata": {},
   "source": [
    "***"
   ]
  },
  {
   "cell_type": "markdown",
   "metadata": {
    "slideshow": {
     "slide_type": "slide"
    }
   },
   "source": [
    "<img src=\"QOTEfficencyComparison.png\" width=500px height=130px/>"
   ]
  },
  {
   "cell_type": "markdown",
   "metadata": {
    "slideshow": {
     "slide_type": "slide"
    }
   },
   "source": [
    "### Figure 1: Resources used in Protocols"
   ]
  },
  {
   "cell_type": "markdown",
   "metadata": {
    "slideshow": {
     "slide_type": "slide"
    }
   },
   "source": [
    "<img src=\"QOTComparisonResult.png\" width=400px height=300px/>"
   ]
  },
  {
   "cell_type": "markdown",
   "metadata": {},
   "source": [
    "### Figure 2: Illustration of the comparison results."
   ]
  },
  {
   "cell_type": "markdown",
   "metadata": {},
   "source": [
    "***"
   ]
  },
  {
   "cell_type": "markdown",
   "metadata": {},
   "source": [
    "## <b>Conclusion</b> \n",
    "\n",
    "1. <b>Innovative Design</b>:\n",
    "   - The protocol is the first one-out-of-two Quantum Oblivious Transfer (QOT) protocol designed directly based on quantum properties.\n",
    "   - It does not rely on all-or-nothing QOT and is proven secure, not subject to Lo’s no-go theorem.\n",
    "   - The protocol is simple and efficient, using single nonorthogonal qubits, and one of the two messages is discarded automatically.\n",
    "<br><br>\n",
    "2. <b>Security</b>:\n",
    "   - The protocol effectively prevents both external and internal attacks.\n",
    "   - Loyalty testing ensures security against internal attacks by detecting a dishonest Alice or Bob using safety parameters $ξ_2$, $ξ_3$ and $ξ_4$\n",
    "<br><br>\n",
    "3. <b>Cost and Efficiency</b>:\n",
    "   - The protocol is more cost-effective and efficient than many traditional two-level structure protocols, utilizing <b>4x less</b> quantum resources than the other three protocols presented.\n",
    "   - It uses only a single qubit, making it easy to implement.\n",
    "<br><br>\n"
   ]
  }
 ],
 "metadata": {
  "kernelspec": {
   "display_name": "Python 3 (ipykernel)",
   "language": "python",
   "name": "python3"
  },
  "language_info": {
   "codemirror_mode": {
    "name": "ipython",
    "version": 3
   },
   "file_extension": ".py",
   "mimetype": "text/x-python",
   "name": "python",
   "nbconvert_exporter": "python",
   "pygments_lexer": "ipython3",
   "version": "3.11.5"
  }
 },
 "nbformat": 4,
 "nbformat_minor": 4
}
