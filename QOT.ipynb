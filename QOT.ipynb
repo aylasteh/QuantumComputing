{
 "cells": [
  {
   "cell_type": "markdown",
   "metadata": {
    "slideshow": {
     "slide_type": "slide"
    }
   },
   "source": [
    "$ \\newcommand{\\bra}[1]{\\langle #1|} $\n",
    "$ \\newcommand{\\ket}[1]{|#1\\rangle} $\n",
    "$\\newcommand{\\inp}[2]{\\langle{#1}|{#2}\\rangle}$ \n",
    "$\\newcommand{\\bracket}[2]{\\langle{#1}|{#2}\\rangle}$\n",
    "$\\newcommand{\\ds}{\\displaystyle}$\n",
    "$\\newcommand{\\id}{\\mathbb{ID}}$\n",
    "$\\newcommand{\\tensor}{\\otimes}$\n",
    "$\\newcommand{\\hide}[1]{}$\n",
    "# One-out-of-two Quantum Oblivious Transfer based on Nonorthogonal States"
   ]
  },
  {
   "cell_type": "markdown",
   "metadata": {
    "slideshow": {
     "slide_type": "slide"
    }
   },
   "source": [
    "What is an obivious transfer (OT) protocol?\n",
    "An oblivious transfer protocol means a sender send a or more pieces of information and stays oblivious if the message which message was chosen.\n",
    "\n",
    "Most common protocols are all-or-nothing and one-out-of-two. <br>\n",
    "All-or-nothing OT (1981):<br>\n",
    "A all-or-nothing protocol is when Bob learns the message sent by Alice either with 100% reliability, or 0%. So Alice sends a message $m \\in {0,1}$ to Bob. Bob receives the message m wirh a porbability of 50%. Bob either learns *m* with 100% reliability or 0% and Alice does not know if Bob received the message. This is oblivious transfer, because  Bob either gets the correct piece of information or gets no useful information at all, and Alice is unaware of whether Bob has successfully received the message.\n",
    "\n",
    "One-out-of-two OT (1-2 OT): <br>\n",
    "Alice send two messages to Bob, $m_0$ and $m_1$. Bob chooses to learn one message, and learns nothing about the other message, and Bob does not disclose his choice to Alice. This is oblivious transfer because Alice never learns what message Bob knows, and Bob does not learn any of the content of the message he did not choose."
   ]
  },
  {
   "cell_type": "markdown",
   "metadata": {
    "slideshow": {
     "slide_type": "slide"
    }
   },
   "source": [
    "Build 1-2 OT using p-all-or-nothing OT: <br>\n",
    "Bob generate two keys, $key_1, key_2$, and uses the all-or-nothing protocol to learn key with 100% certainty, the other with 0%. Bob asks Alice to encrypt mesages $m_0$ and $m_1$ with using $key_j$ with $j \\in {0,1}$, so the key he chose to learn. Bob receives the messages and can only decrypt the message for which he chose the hey. An example protocol:\n",
    "- step 1: Bob Generates Keys\n",
    "- step 2: All-or-Nothing OT for Keys\n",
    "- step 3: Alice Encrypts Messages\n",
    "- step 4: Transmission of Ciphertexts\n",
    "- step 5: Bob Decrypts the Message <br>\n",
    "\n",
    "This is a two-level structured protocol"
   ]
  },
  {
   "cell_type": "markdown",
   "metadata": {
    "slideshow": {
     "slide_type": "slide"
    }
   },
   "source": [
    "Previous one-out-of two quantum oblivious transfer (QOT) scheme have a two-level structure based in no-go theorem.\n",
    "\n",
    "The no-go theorem:<br>\n",
    "in 1997, Lo introduced the no-go theorem for OT protocols. The theorem says that all one-sided two-party computations are potentialy insecure. It applies to all protocols where two parites must input two values i and j together into a fuction f(i,j), and only one party is allowed to learn the result. This theroem contains the one-out-of-two Quantum Oblivious Transfer (QOT) where the function f(i,j) is the selector. <br>\n",
    "The theorem means to show the security holes of OT protocols by demonstrating that the party not learning the result could potentially gain information."
   ]
  },
  {
   "cell_type": "markdown",
   "metadata": {
    "slideshow": {
     "slide_type": "slide"
    }
   },
   "source": [
    "To counteract this theorem He's proof was created. With the proof new oblivious transfer protocols can be created.\n",
    "\n",
    "He's proof: <br>\n",
    "In the proof the creation of a secure all-or-nothing QOT scheme is done that uses four entangled states, and avoids the limitations defined by Lo’s no-go theorem. The key to success of the proof is that the receiver inputs hish choices before the sender inputs her messages $m_0$ and $m_1$. By doing this it allows to differentiate the function f of the one-out-of-two protocol and those from Lo’s no-go theory. This led to the development of other QOT protocols that are not constrained by Lo's theorem, expanding the possibilities for secure quantum communication in cryptography.\n",
    "\n",
    "A new protocol unsing this proof is proposed in the next section."
   ]
  },
  {
   "cell_type": "markdown",
   "metadata": {
    "slideshow": {
     "slide_type": "slide"
    }
   },
   "source": [
    "### Proposed Protocol\n",
    "\n",
    "The new protocol proposed in the parper has 7 steps:\n",
    "\n",
    "Step 1: <br>\n",
    "- Bob creates qubit sequence according to his intentions\n",
    "    - $j_0$, choose $\\ket 0$ \n",
    "    - $j_1$, choose $\\ket +$\n",
    "- Sequence must be longer than OT sequence\n",
    "- N is minimum length (Bob receives N messages), M number channel checking qubits, K number loyalty testing qubits\n",
    "    - $QOT = N \\in (\\ket0, \\ket+) + M \\in (\\ket0,\\ket1,\\ket+,\\ket-) + 2K \\in (\\ket0,\\ket+) $\n",
    "- Send sequence to Alice\n",
    "\n",
    "> Example: <br>\n",
    "Two qubits: $\\ket{0+}_{12} (N)$ to represent his choices and $\\ket{0+}_{34} (2K)$ for loyalty testing\n"
   ]
  },
  {
   "cell_type": "markdown",
   "metadata": {
    "slideshow": {
     "slide_type": "slide"
    }
   },
   "source": [
    "Step 2:\n",
    "\n",
    "- Alice receives sequence: checks for eavesdroppers and tests Bobs loyalty\n",
    "1. asks Bob to publish bases and states he created, <br>\n",
    "if error rate higher than threshold, then Eve is present on\tchannel \n",
    "    - communication aborted\n",
    "2. Checks Bobs loyalty: Alice randomly selects several positions and requests Bob to publish his bases\n",
    "    - If different results (e.g. not in $\\ket{0}$,$\\ket{+}$), measured is higher than given error rate then Bob is dishonest\n",
    "    - Communication aborted\n",
    "\n",
    "> $\\ket {0+0+}_{1234}$ , suppose Alice chooses qubit 4, asks Bob to publish base of qubit 4, measures it and compares the published and measured result. <br>\n",
    "Afterwards qubit 4 is discarded.\n"
   ]
  },
  {
   "cell_type": "markdown",
   "metadata": {
    "slideshow": {
     "slide_type": "slide"
    }
   },
   "source": [
    "Step 3:\n",
    "\n",
    "- Because of the loyalty test Bob must ask Alice to reorder qubits\n",
    "    - This is done as a precaution, in case eavesdropper eve was able to catch the message, the message is reordered so eve doesn't know the message going forward\n",
    "- This is what the additional 2K qubits are for, prevent vacancies in the lost of choice intentions\n",
    "- The sequence after reordering represents Bobs real choices\n",
    "\n",
    "> Bobs asks Alice to reorder remaining qubits in order 21, <br>\n",
    "States become $\\ket{+0}$, with qubit 3 discarded, <br>\n",
    "Represent Bob’s choices $j_0$ and $j_1$ respectively\n"
   ]
  },
  {
   "cell_type": "markdown",
   "metadata": {
    "slideshow": {
     "slide_type": "slide"
    }
   },
   "source": [
    "Step 4:\n",
    "\n",
    "- Alice inputs secret message m0 and m1 through I,X,Y,Z operations according to 00,10,11,01\n",
    "\n",
    "> Alice performs Z and X so $01_{12}$ and $10_{34} $ <br>\n",
    "Converts $\\ket{+0}_{21}$ to $\\ket{-1}_{21}$\n"
   ]
  },
  {
   "cell_type": "markdown",
   "metadata": {
    "slideshow": {
     "slide_type": "slide"
    }
   },
   "source": [
    "Step 5:\n",
    "- Alice inserts decoy qubits from $\\ket0,\\ket1,\\ket+,\\ket-$ for channel checking \n",
    "- Send sequence to Bob\n"
   ]
  },
  {
   "cell_type": "markdown",
   "metadata": {
    "slideshow": {
     "slide_type": "slide"
    }
   },
   "source": [
    "Step 6:\n",
    "\n",
    "- Bob receives sequence and asks Alice to publish positions and states of decoy qubits\n",
    "- If error rate higher than channel error rate abort communication\n",
    "    - Return to step 1\n",
    "- Otherwise Bob learns contents of the classical message by measuring the qubits with bases he prepared\n",
    "\n",
    "> Bob performs X and Z basis measurements to learn second and first classical messages, 1 and 1 <br>\n",
    "($01_{12}$ and $10_{34}$)\n"
   ]
  },
  {
   "cell_type": "markdown",
   "metadata": {
    "slideshow": {
     "slide_type": "slide"
    }
   },
   "source": [
    "Step 7:\n",
    "- Bob test Alice loyalty\n",
    "- Bob chooses random positions and asks Alice to publish her operations\n",
    "- Bob performs operations according to announcements to recover qubits into   $\\{\\ket0,\\ket+\\}$\n",
    "- Check error rate, if higher than threshold then Alice is dishonest\n",
    "\n",
    "> Bob asks Alice to publish operations (X) which performs on qubit 1 <br>\n",
    "Bob performs X on qubit 1 to recover state $\\ket0$\n"
   ]
  },
  {
   "cell_type": "markdown",
   "metadata": {},
   "source": [
    "Why is this an oblivious transfer protocol? <br>\n",
    "This is an oblivious transfer protocolm because Bob only learns either message $m_0$ or message $m_1$, and nothing about the other message, and Alice does not know which message bob chooses to learn. <br>\n",
    "In step 1 Bob disguises his choices in step 1. This step also helps with the bindingness component that are expected for cyptographic protocols. In step 4 the bits are reordered, so Bob does not know which qubits belong to message 0, and which to message 1. Bob chooses a message $m_0$ or $m_1$ without knowing which message he is choosing. How Bob knows which qubit belong to which message, is because Bob asks Alice to publish position and states in step 7. As Alice gives Bob the states and position in step 7, but does not learn which message he chooses in the end, Alice never learns which message he chose to learn. "
   ]
  },
  {
   "cell_type": "code",
   "execution_count": null,
   "metadata": {
    "slideshow": {
     "slide_type": "skip"
    }
   },
   "outputs": [],
   "source": [
    "#Implementation in Qiskit\n",
    "\n",
    "from qiskit_aer import Aer\n",
    "from qiskit import QuantumCircuit, transpile\n",
    "from qiskit.visualization import plot_histogram\n",
    "#from qiskit_textbook.tools import simon_oracle\n",
    "\n",
    "# Step 1: Bob creates qubit sequence\n",
    "# Define qubit sequence length\n",
    "# EXAMPLE:\n",
    "N = 2  # Bob's qubits\n",
    "M = 2  # channel checking qubits\n",
    "K = 2  # loyalty testing qubits\n",
    "\n",
    "# Create a quantum circuit with N + M + 2K qubits\n",
    "qc = QuantumCircuit(N + M + 2 * K)\n",
    "\n",
    "# Bob prepares qubits for choice intentions (|0〉 and |+〉 states)\n",
    "qc.h(range(N))  # |+〉 state for choice intention j1\n",
    "# Insert qubits for channel checking and loyalty testing\n",
    "qc.reset(range(N, N + M + 2 * K))  # Initialize qubits for channel checking and loyalty testing\n",
    "\n",
    "# Step 2: \n",
    "\n",
    "# Step 3: \n",
    "\n",
    "# Step 4: \n",
    "\n",
    "# Step 5: \n",
    "\n",
    "# Step 6: \n",
    "\n",
    "# Step 7: \n",
    "\n",
    "# Execute the quantum circuit\n",
    "simulator = Aer.get_backend('qasm_simulator')\n",
    "result = simulator.run(qc).result()\n",
    "counts = result.get_counts()\n",
    "\n",
    "# Visualize the measurement outcomes\n",
    "print(counts)\n",
    "plot_histogram(counts)\n"
   ]
  },
  {
   "cell_type": "markdown",
   "metadata": {
    "slideshow": {
     "slide_type": "skip"
    }
   },
   "source": [
    "The implementation is dependent on the problem, the implementation of the example:"
   ]
  },
  {
   "cell_type": "code",
   "execution_count": 122,
   "metadata": {
    "slideshow": {
     "slide_type": "skip"
    }
   },
   "outputs": [
    {
     "name": "stdout",
     "output_type": "stream",
     "text": [
      "Measurement results after step 6: {'00': 510, '10': 514}\n",
      "Measurement results after step 7 (qubit 1 only): {'0': 479}\n"
     ]
    }
   ],
   "source": [
    "from qiskit import QuantumCircuit, transpile, assemble\n",
    "from qiskit_aer import Aer\n",
    "from qiskit.visualization import plot_histogram\n",
    "\n",
    "\n",
    "# Step 1: Bob creates a qubit sequence\n",
    "qc_bob = QuantumCircuit(4, 2)  # 4 qubits, 2 classical bits for measurement\n",
    "qc_bob.h(1)  # Choice intention |+> for j1 (qubit 1)\n",
    "#qc_bob.h(3)  # Loyalty testing |+> (qubit 3)\n",
    "\n",
    "# Step 2: Alice checks the channel and Bob's loyalty\n",
    "#qc_bob.measure(3, 0)  # Measure qubit 4 (index 3) for loyalty\n",
    "\n",
    "# Simulate the loyalty check\n",
    "\n",
    "#print(\"Loyalty check results (qubit 4):\", counts)\n",
    "\n",
    "# Assuming loyalty check passed, we continue\n",
    "qc_bob.reset(3)  # Reset qubit 4 for reuse\n",
    "\n",
    "# Step 3: Reorder qubits (keeping original indices for clarity)\n",
    "qc_bob.reset(0)\n",
    "qc_bob.reset(1)\n",
    "qc_bob.h(0)\n",
    "\n",
    "# Step 4: Alice performs Z and X operations to encode messages\n",
    "qc_bob.z(0)  # Applying Z to qubit 0 (to encode message '0')\n",
    "qc_bob.x(1)  # Applying X to qubit 1 (to encode message '1')\n",
    "\n",
    "\n",
    "# Step 5: Alice inserts decoy qubits\n",
    "\n",
    "\n",
    "# Step 6: Bob measures the qubits to learn the classical messages\n",
    "qc_bob.measure(0,1)\n",
    "#qc_bob.measure([0,1],[0,0])\n",
    "#qc_bob.measure([0, 1], [1, 0])  # Measuring qubits 0 and 1 to classical bits, reordered\n",
    "\n",
    "# Simulate the protocol after step 6\n",
    "simulator = Aer.get_backend('qasm_simulator')\n",
    "compiled_circuit = transpile(qc_bob, simulator)\n",
    "result = simulator.run(compiled_circuit).result()\n",
    "counts = result.get_counts()\n",
    "print(\"Measurement results after step 6:\", counts)\n",
    "\n",
    "# Step 7: Bob tests Alice's loyalty by performing the announced operations\n",
    "qc_bob.x(1)  # Bob performs X on qubit 1 to recover state |0>\n",
    "\n",
    "# Simulate the full protocol after step 7\n",
    "compiled_circuit = transpile(qc_bob, simulator)\n",
    "result = simulator.run(compiled_circuit).result()\n",
    "counts = result.get_counts()\n",
    "print(\"Measurement results after step 7 (qubit 1 only):\", {key[-1]: val for key, val in counts.items() if key[0] == '1'})\n",
    "\n",
    "# Output the results\n",
    "#plot_histogram(counts)"
   ]
  },
  {
   "cell_type": "markdown",
   "metadata": {
    "slideshow": {
     "slide_type": "slide"
    }
   },
   "source": [
    "### Security Analysis"
   ]
  },
  {
   "cell_type": "markdown",
   "metadata": {
    "slideshow": {
     "slide_type": "slide"
    }
   },
   "source": [
    "#### External Attack\n",
    "\n",
    "without channel checking or reduced frequency, Eve will be able to illicitly eavesdrop on their messages<br>\n",
    "\n",
    "Intercept-and-resend attack: <br>\n",
    "will disturb qubits states <br>\n",
    "each qubit will be disturbed with a probability of ¼ <br>\n",
    "\n",
    "reads sequence, measures and resend sequence<br>\n",
    "\n",
    "Entangling attack: <br>\n",
    "intercepts transmission, prepares ancillary qubit $\\ket E$ and perform unitary operation $U_e$"
   ]
  },
  {
   "cell_type": "markdown",
   "metadata": {
    "slideshow": {
     "slide_type": "slide"
    }
   },
   "source": [
    "#### Internal Attack\n",
    "\n",
    "Goal Alice: learn Bob's choices <br>\n",
    "Goal Bob: learn content of Alice's messages <br>\n",
    "\n",
    "#### Alice cheating strategy: <br>\n",
    "<ins>No ability of entanglement:</ins>\n",
    "- perform a single qubit gate {<i>I, X, Y, Z, H</i>}\n",
    "- success probability: 25% or 29.3%\n",
    "- attack always detected in protocol (which step?)\n",
    "    - measurement in the incorrect basis can yield incorrect measurement results that nevertheless help Alice to determine Bob’s initial state\n",
    "\n"
   ]
  },
  {
   "cell_type": "markdown",
   "metadata": {
    "slideshow": {
     "slide_type": "slide"
    }
   },
   "source": [
    "<ins>With ability of entanglement:</ins>\n",
    "- perform two or more qubit gates\n",
    "- Bob required to also have ability of entanglement to resist attacks\n",
    "- attack will be detected\n",
    "- success probability 25% or 29.3%\n",
    "- teleportation attack: (in step 4)\n",
    "    - instead of inputting secret message into qubit C creates bell state, gives qubit B to Bob to repace C, and keeps qubit A\n",
    "    - Alice performs bell measurement on C and A\n",
    "    - According to measurement results gives <i>I, X, Y, Z</i> as her secret message\n",
    "    - Bob can then recover state $\\ket0_B$ or $\\ket+_B$ with apllying said gate"
   ]
  },
  {
   "cell_type": "markdown",
   "metadata": {
    "slideshow": {
     "slide_type": "slide"
    }
   },
   "source": [
    "<ins>Bob also has entanglement ability (How Bob can counter the previous procedure):</ins> <br>\n",
    "- prepare entangled state in $\\frac{1}{\\sqrt{2}}(\\ket{00} + \\ket{11})_{A1B1}$\n",
    "- send qubit A1 to alice\n",
    "- Alice performs an operation {<i>I, X, Y, Z</i>} on A1\n",
    "- Bob can then measure qubits A1 and B1 with specific bases (IY basis and XZ basis) to check Alice's loyalty.\n",
    "\n",
    "#### Bob cheating strategy: <br>\n",
    "- prepare entangled qubits in the form $\\ket{\\phi^+} = \\frac{1}{\\sqrt{2}}(\\ket{00} + \\ket{11})_{12}$\n",
    "- Bob can perfectly identify which operation Alice performed on qubit 1"
   ]
  },
  {
   "cell_type": "markdown",
   "metadata": {
    "slideshow": {
     "slide_type": "slide"
    }
   },
   "source": [
    "### Efficency Analysis"
   ]
  },
  {
   "cell_type": "markdown",
   "metadata": {
    "slideshow": {
     "slide_type": "slide"
    }
   },
   "source": [
    "\n",
    "Comparison of four protocols: Yang's, YYLSZ, YSW and the proposed protocol.\n",
    "\n",
    "R = message bits that are received\n",
    "\n",
    "Yang's protocol:\n",
    "- uses B92 protocol\n",
    "- four qubits for unambiguous key and only one transmission\n",
    "- detection strategy with decoy qubits used\n",
    "- $4 * R + 50$\n",
    "\n",
    "YYYLSZ protocol:\n",
    "- four qubits on average to obtain an unambiguous key using\n",
    "its all-or-nothing QOT strategy i.e. p = 1/4\n",
    "- two transmissions needed\n",
    "- strategy is based on the law of large number and will consume a large number of qubits\n",
    "- $4 * R + 2 * 50$"
   ]
  },
  {
   "cell_type": "markdown",
   "metadata": {
    "slideshow": {
     "slide_type": "slide"
    }
   },
   "source": [
    "\n",
    "YSW protocol:\n",
    "- four qubits for unambiguous key and one transmission\n",
    "- not include loyalty testing\n",
    "- Errors may be detected at the application level\n",
    "- $4 * R + 50$\n",
    "\n",
    "Proposed protocol:\n",
    "- based directly on quantum resources and consumes one qubit for\n",
    "each received bit\n",
    "- requires two transmissions\n",
    "- $R + 2 * 50$\n"
   ]
  },
  {
   "cell_type": "markdown",
   "metadata": {
    "slideshow": {
     "slide_type": "slide"
    }
   },
   "source": [
    "<img src=\"QOTEfficencyComparison.png\" width=500px height=130px/>"
   ]
  },
  {
   "cell_type": "markdown",
   "metadata": {
    "slideshow": {
     "slide_type": "slide"
    }
   },
   "source": [
    "Quantum Resources for One Message Bit: Number of quantum resources consumed for each received bit, without decoy qubits <br>\n",
    "Number of Transmissions: Number of transmissions for one sequence <br>\n",
    "Decoy Qubits: Number of decoy qubits, considering the number of transmissions <br>\n",
    "Total Cost: The total average quantum resource consumption for R received bits"
   ]
  },
  {
   "cell_type": "markdown",
   "metadata": {
    "slideshow": {
     "slide_type": "slide"
    }
   },
   "source": [
    "<img src=\"QOTComparisonResult.png\" width=400px height=300px/>"
   ]
  }
 ],
 "metadata": {
  "kernelspec": {
   "display_name": "Python 3 (ipykernel)",
   "language": "python",
   "name": "python3"
  },
  "language_info": {
   "codemirror_mode": {
    "name": "ipython",
    "version": 3
   },
   "file_extension": ".py",
   "mimetype": "text/x-python",
   "name": "python",
   "nbconvert_exporter": "python",
   "pygments_lexer": "ipython3",
   "version": "3.12.1"
  }
 },
 "nbformat": 4,
 "nbformat_minor": 4
}
