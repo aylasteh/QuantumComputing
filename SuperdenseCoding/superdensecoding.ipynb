{
 "cells": [
  {
   "cell_type": "code",
   "execution_count": null,
   "metadata": {},
   "outputs": [],
   "source": []
  },
  {
   "cell_type": "markdown",
   "metadata": {},
   "source": [
    "### Superdense Coding\n",
    "\n",
    "Question 14.1:\n",
    "\n",
    "Trent prepares a EPR Pair:  $ \\vert {\\psi} \\rangle _{AB} = \\frac{1}{\\sqrt 2 }(\\vert 0\\rangle _A \\vert 0\\rangle _B + \\vert 1\\rangle _A \\vert 1\\rangle _B) $     \n",
    "Qubit 0 will go to Alice, where she will apply a Hadamard on the first qubit and a CNOT $_{12}$ so the state is $ \\vert {\\psi}\\rangle _A = \\alpha \\vert 0\\rangle _A + \\beta \\vert 1\\rangle _A $     \n",
    "Qubit 1 will go to Bob which will stay in the state $\\vert 0\\rangle _B$  "
   ]
  },
  {
   "cell_type": "markdown",
   "metadata": {},
   "source": [
    "Question 14.2: \n",
    "\n",
    "$$ \\vert {\\psi} \\rangle _{AB} = \\frac{1}{\\sqrt 2 }(\\vert 0\\rangle _A \\vert 0\\rangle _B + \\vert 1\\rangle _A \\vert 1\\rangle _B) $$"
   ]
  },
  {
   "cell_type": "markdown",
   "metadata": {},
   "source": [
    "Question 14.3:\n",
    "\n",
    "| Intendet message | Applied Gate | Resulting State|\n",
    "| --- | --- | --- |\n",
    "| 00 | I | $ \\frac{1}{\\sqrt 2 }(\\vert 00\\rangle + \\vert 11\\rangle) $ |\n",
    "| 01 | X | $ \\frac{1}{\\sqrt 2 }(\\vert 01\\rangle + \\vert 10\\rangle) $ |\n",
    "| 10 | Z | $ \\frac{1}{\\sqrt 2 }(\\vert 00\\rangle - \\vert 11\\rangle) $ |\n",
    "| 11 | ZX | $ \\frac{1}{\\sqrt 2 }(\\vert 01\\rangle - \\vert 10\\rangle) $ |"
   ]
  },
  {
   "cell_type": "markdown",
   "metadata": {},
   "source": [
    "Question 14.4:\n",
    "\n",
    "Bob decodes by apllying CNOT $_{12}$ then Hadamard"
   ]
  },
  {
   "cell_type": "markdown",
   "metadata": {},
   "source": [
    "Question 14.5:\n",
    "\n",
    "| Bob recieves | After Operation 1 | After Operation 2|\n",
    "| --- | --- | --- |\n",
    "| $ \\frac{1}{\\sqrt 2 }(\\vert 00\\rangle + \\vert 11\\rangle) $ | $ \\frac{1}{\\sqrt 2 }(\\vert 00\\rangle + \\vert 10\\rangle) $ |  $ \\vert 00\\rangle $ |\n",
    "| $ \\frac{1}{\\sqrt 2 }(\\vert 01\\rangle + \\vert 10\\rangle) $ | $ \\frac{1}{\\sqrt 2 }(\\vert 11\\rangle + \\vert 01\\rangle) $ | $ \\vert 01\\rangle $ |\n",
    "| $ \\frac{1}{\\sqrt 2 }(\\vert 00\\rangle - \\vert 11\\rangle) $ | $ \\frac{1}{\\sqrt 2 }(\\vert 00\\rangle - \\vert 10\\rangle) $ | $ \\vert 10\\rangle $ |\n",
    "| $ \\frac{1}{\\sqrt 2 }(\\vert 01\\rangle - \\vert 10\\rangle) $ | $ \\frac{1}{\\sqrt 2 }(\\vert 01\\rangle - \\vert 11\\rangle) $ |  $ \\vert 11\\rangle $ |"
   ]
  },
  {
   "cell_type": "markdown",
   "metadata": {},
   "source": [
    "Question 14.6:\n",
    "\n",
    "With the measurement of the qubits by Bob we can see that the message Alice sent and the result after operation 2 will after measurement correspond to the intended bit message of Alice."
   ]
  },
  {
   "cell_type": "markdown",
   "metadata": {},
   "source": [
    "Question 14.7:"
   ]
  },
  {
   "cell_type": "code",
   "execution_count": null,
   "metadata": {},
   "outputs": [],
   "source": [
    "from qiskit import QuantumCircuit\n",
    "from qiskit_aer import Aer\n",
    "from qiskit.visualization import plot_histogram\n",
    "\n",
    "def create_entanglement():\n",
    "    '''entanglement created through hardamard on first quitbit\n",
    "    and a CNOT12 (firts quibit: control, second qubit: target)'''\n",
    "    qc = QuantumCircuit(2)\n",
    "    qc.h(1)\n",
    "    qc.cx(1, 0)\n",
    "    return qc\n",
    "\n",
    "def encode_message(qc, qubit, msg):\n",
    "    '''Encode message with superdence coding'''\n",
    "\n",
    "    '''check message is valid'''\n",
    "    if len(msg) != 2 or not set(msg).issubset({\"0\",\"1\"}):\n",
    "        raise ValueError(f\"message '{msg}' is invalid\")\n",
    "    \n",
    "    '''According to message Alice wants to send apply \n",
    "    corresponding unitary'''\n",
    "    if msg == \"01\":\n",
    "        qc.x(qubit)\n",
    "    if msg == \"10\":\n",
    "        qc.z(qubit)\n",
    "    if msg == \"11\":\n",
    "        qc.z(qubit)\n",
    "        qc.x(qubit)\n",
    "    \n",
    "    return qc\n",
    "\n",
    "def decode_message(qc):\n",
    "    '''Bob wants to decode the message by undoing the steps from create_entanglement'''\n",
    "    qc.cx(1, 0)\n",
    "    qc.h(1)\n",
    "    return qc\n",
    "\n",
    "# Trent creates entanglement\n",
    "qc = create_entanglement()\n",
    "\n",
    "# Qubit 0 goes to Alice and qubit 1 goes to Bob\n",
    "\n",
    "# Alice encodes her message\n",
    "# Message is the bit message Alice wants to send\n",
    "#message = '00' #I gate\n",
    "#message = '01' #X gate\n",
    "#message = '10' #Z gate\n",
    "message = '11' #Z X gates\n",
    "qc = encode_message(qc, 1, message)\n",
    "\n",
    "# Alice sends her qubit to Bob.\n",
    "\n",
    "# After receiving qubit 0, Bob decodes the message\n",
    "qc = decode_message(qc)\n",
    "\n",
    "# Bob measures his qubits to read Alice's message\n",
    "qc.measure_all()\n",
    "\n",
    "aer_sim = Aer.get_backend('aer_simulator')\n",
    "result = aer_sim.run(qc).result()\n",
    "counts = result.get_counts(qc)\n",
    "plot_histogram(counts)"
   ]
  }
 ],
 "metadata": {
  "language_info": {
   "name": "python"
  }
 },
 "nbformat": 4,
 "nbformat_minor": 2
}
